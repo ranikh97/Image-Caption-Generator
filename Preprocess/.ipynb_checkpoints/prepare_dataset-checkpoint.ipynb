{
 "cells": [
  {
   "cell_type": "code",
   "execution_count": 24,
   "metadata": {},
   "outputs": [],
   "source": [
    "import string\n",
    "import pickle\n",
    "path_to_file = '/home/student/Image_Captioning_Project/Captions/Flickr8k.token.txt'"
   ]
  },
  {
   "cell_type": "code",
   "execution_count": 2,
   "metadata": {},
   "outputs": [],
   "source": [
    "def load_file(path):\n",
    "    with open(path,'r') as file:\n",
    "        lines = file.readlines()\n",
    "    return lines"
   ]
  },
  {
   "cell_type": "code",
   "execution_count": 3,
   "metadata": {},
   "outputs": [],
   "source": [
    "def clean(caption):\n",
    "    punc = str.maketrans('','',string.punctuation)\n",
    "    cleaned = caption.replace(\"-\",\" \")\n",
    "    words = cleaned.split()\n",
    "    words = [word.lower() for word in words]\n",
    "    words = [word.translate(punc) for word in words]\n",
    "    words = [word for word in words if(len(word)>1)]\n",
    "    words = [word for word in words if(word.isalpha())]\n",
    "    \n",
    "    string_caption = ' '.join(words)\n",
    "    return string_caption\n",
    "    "
   ]
  },
  {
   "cell_type": "code",
   "execution_count": 4,
   "metadata": {},
   "outputs": [],
   "source": [
    "def clean_and_organize(line):\n",
    "    image,caption = line.split('\\t')\n",
    "    cleaned_caption = clean(caption)\n",
    "    new_line = image.split(\"#\")[0]+'\\t'+ cleaned_caption\n",
    "    return new_line"
   ]
  },
  {
   "cell_type": "code",
   "execution_count": 6,
   "metadata": {},
   "outputs": [],
   "source": [
    "lines = load_file(path_to_file)\n",
    "new_lines = []\n",
    "word_to_id = {}\n",
    "id_to_word = {}\n",
    "word_to_id[\"<start>\"] = 0\n",
    "id_to_word[0] = \"<start>\"\n",
    "word_to_id[\"<end>\"] = 1\n",
    "id_to_word[1] = \"<end>\"\n",
    "word_id = 2\n",
    "for line in lines:\n",
    "    new_line = clean_and_organize(line)\n",
    "    words = new_line.split('\\t')[1].split()\n",
    "    for word in words:\n",
    "        if word not in word_to_id:\n",
    "            id_to_word[word_id] = word\n",
    "            word_to_id[word] = word_id\n",
    "            word_id += 1\n",
    "    new_lines.append(new_line)"
   ]
  },
  {
   "cell_type": "code",
   "execution_count": 20,
   "metadata": {},
   "outputs": [],
   "source": [
    "train = new_lines[:36415]\n",
    "test = new_lines[36415:]"
   ]
  },
  {
   "cell_type": "code",
   "execution_count": 23,
   "metadata": {},
   "outputs": [],
   "source": [
    "with open('/home/student/Image_Captioning_Project/Data/train_captions.txt','w') as file:\n",
    "    for line in train:\n",
    "        file.write(line+'\\n')\n",
    "        \n",
    "with open('/home/student/Image_Captioning_Project/Data/test_captions.txt','w') as file:\n",
    "    for line in test:\n",
    "        file.write(line+'\\n')"
   ]
  },
  {
   "cell_type": "code",
   "execution_count": 25,
   "metadata": {},
   "outputs": [],
   "source": [
    "with open('/home/student/Image_Captioning_Project/Data/word_to_id.pkl','wb') as file:\n",
    "    pickle.dump(word_to_id,file)\n",
    "\n",
    "with open('/home/student/Image_Captioning_Project/Data/id_to_word.pkl','wb') as file:\n",
    "    pickle.dump(id_to_word,file)"
   ]
  }
 ],
 "metadata": {
  "kernelspec": {
   "display_name": "caption_gen",
   "language": "python",
   "name": "caption_gen"
  },
  "language_info": {
   "codemirror_mode": {
    "name": "ipython",
    "version": 3
   },
   "file_extension": ".py",
   "mimetype": "text/x-python",
   "name": "python",
   "nbconvert_exporter": "python",
   "pygments_lexer": "ipython3",
   "version": "3.7.9"
  }
 },
 "nbformat": 4,
 "nbformat_minor": 4
}
